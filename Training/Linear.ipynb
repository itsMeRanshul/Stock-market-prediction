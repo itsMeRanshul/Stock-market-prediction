{
 "cells": [
  {
   "cell_type": "code",
   "execution_count": 4,
   "id": "d7b57a35-84b5-431a-900b-92bf14e00e50",
   "metadata": {},
   "outputs": [],
   "source": [
    "import pandas as pd\n",
    "import numpy as np\n",
    "import matplotlib.pyplot as plt\n",
    "from sklearn import metrics"
   ]
  },
  {
   "cell_type": "code",
   "execution_count": 5,
   "id": "4a19526b-cf0b-4ed9-ab04-d10b6f32d100",
   "metadata": {},
   "outputs": [
    {
     "data": {
      "text/html": [
       "<div>\n",
       "<style scoped>\n",
       "    .dataframe tbody tr th:only-of-type {\n",
       "        vertical-align: middle;\n",
       "    }\n",
       "\n",
       "    .dataframe tbody tr th {\n",
       "        vertical-align: top;\n",
       "    }\n",
       "\n",
       "    .dataframe thead th {\n",
       "        text-align: right;\n",
       "    }\n",
       "</style>\n",
       "<table border=\"1\" class=\"dataframe\">\n",
       "  <thead>\n",
       "    <tr style=\"text-align: right;\">\n",
       "      <th></th>\n",
       "      <th>Date</th>\n",
       "      <th>Open</th>\n",
       "      <th>High</th>\n",
       "      <th>Low</th>\n",
       "      <th>Close</th>\n",
       "      <th>Adj Close</th>\n",
       "      <th>Volume</th>\n",
       "    </tr>\n",
       "  </thead>\n",
       "  <tbody>\n",
       "    <tr>\n",
       "      <th>0</th>\n",
       "      <td>2004-01-16</td>\n",
       "      <td>38.387501</td>\n",
       "      <td>38.387501</td>\n",
       "      <td>38.387501</td>\n",
       "      <td>38.387501</td>\n",
       "      <td>27.19158</td>\n",
       "      <td>0.0</td>\n",
       "    </tr>\n",
       "    <tr>\n",
       "      <th>1</th>\n",
       "      <td>2004-01-19</td>\n",
       "      <td>38.387501</td>\n",
       "      <td>38.387501</td>\n",
       "      <td>38.387501</td>\n",
       "      <td>38.387501</td>\n",
       "      <td>27.19158</td>\n",
       "      <td>0.0</td>\n",
       "    </tr>\n",
       "    <tr>\n",
       "      <th>2</th>\n",
       "      <td>2004-01-20</td>\n",
       "      <td>38.387501</td>\n",
       "      <td>38.387501</td>\n",
       "      <td>38.387501</td>\n",
       "      <td>38.387501</td>\n",
       "      <td>27.19158</td>\n",
       "      <td>0.0</td>\n",
       "    </tr>\n",
       "    <tr>\n",
       "      <th>3</th>\n",
       "      <td>2004-01-21</td>\n",
       "      <td>38.387501</td>\n",
       "      <td>38.387501</td>\n",
       "      <td>38.387501</td>\n",
       "      <td>38.387501</td>\n",
       "      <td>27.19158</td>\n",
       "      <td>0.0</td>\n",
       "    </tr>\n",
       "    <tr>\n",
       "      <th>4</th>\n",
       "      <td>2004-01-22</td>\n",
       "      <td>38.387501</td>\n",
       "      <td>38.387501</td>\n",
       "      <td>38.387501</td>\n",
       "      <td>38.387501</td>\n",
       "      <td>27.19158</td>\n",
       "      <td>0.0</td>\n",
       "    </tr>\n",
       "  </tbody>\n",
       "</table>\n",
       "</div>"
      ],
      "text/plain": [
       "         Date       Open       High        Low      Close  Adj Close  Volume\n",
       "0  2004-01-16  38.387501  38.387501  38.387501  38.387501   27.19158     0.0\n",
       "1  2004-01-19  38.387501  38.387501  38.387501  38.387501   27.19158     0.0\n",
       "2  2004-01-20  38.387501  38.387501  38.387501  38.387501   27.19158     0.0\n",
       "3  2004-01-21  38.387501  38.387501  38.387501  38.387501   27.19158     0.0\n",
       "4  2004-01-22  38.387501  38.387501  38.387501  38.387501   27.19158     0.0"
      ]
     },
     "execution_count": 5,
     "metadata": {},
     "output_type": "execute_result"
    }
   ],
   "source": [
    "dataset=pd.read_csv('C:/Users/RANSHUL/OneDrive/Desktop/Stock market prediction/TCS.NS.csv')\n",
    "dataset.head()"
   ]
  },
  {
   "cell_type": "code",
   "execution_count": 6,
   "id": "0fbd1e76-4999-4d48-a616-f6cd10986977",
   "metadata": {},
   "outputs": [
    {
     "data": {
      "text/plain": [
       "(5017, 7)"
      ]
     },
     "execution_count": 6,
     "metadata": {},
     "output_type": "execute_result"
    }
   ],
   "source": [
    "dataset.shape"
   ]
  },
  {
   "cell_type": "code",
   "execution_count": 7,
   "id": "1bf56b26-002d-406a-be85-f8e1b5d46e40",
   "metadata": {},
   "outputs": [],
   "source": [
    "dataset.dropna(inplace=True)"
   ]
  },
  {
   "cell_type": "code",
   "execution_count": 8,
   "id": "a72d0eec-a7e2-41f4-a0f5-0e65d3f71463",
   "metadata": {},
   "outputs": [
    {
     "name": "stdout",
     "output_type": "stream",
     "text": [
      "<class 'pandas.core.frame.DataFrame'>\n",
      "Index: 5009 entries, 0 to 5016\n",
      "Data columns (total 7 columns):\n",
      " #   Column     Non-Null Count  Dtype  \n",
      "---  ------     --------------  -----  \n",
      " 0   Date       5009 non-null   object \n",
      " 1   Open       5009 non-null   float64\n",
      " 2   High       5009 non-null   float64\n",
      " 3   Low        5009 non-null   float64\n",
      " 4   Close      5009 non-null   float64\n",
      " 5   Adj Close  5009 non-null   float64\n",
      " 6   Volume     5009 non-null   float64\n",
      "dtypes: float64(6), object(1)\n",
      "memory usage: 313.1+ KB\n"
     ]
    }
   ],
   "source": [
    "dataset.info()"
   ]
  },
  {
   "cell_type": "code",
   "execution_count": 9,
   "id": "260bb920-1e92-4ba0-9ebb-fedb4798db2e",
   "metadata": {},
   "outputs": [
    {
     "data": {
      "text/html": [
       "<div>\n",
       "<style scoped>\n",
       "    .dataframe tbody tr th:only-of-type {\n",
       "        vertical-align: middle;\n",
       "    }\n",
       "\n",
       "    .dataframe tbody tr th {\n",
       "        vertical-align: top;\n",
       "    }\n",
       "\n",
       "    .dataframe thead th {\n",
       "        text-align: right;\n",
       "    }\n",
       "</style>\n",
       "<table border=\"1\" class=\"dataframe\">\n",
       "  <thead>\n",
       "    <tr style=\"text-align: right;\">\n",
       "      <th></th>\n",
       "      <th>Open</th>\n",
       "      <th>High</th>\n",
       "      <th>Low</th>\n",
       "      <th>Close</th>\n",
       "      <th>Adj Close</th>\n",
       "      <th>Volume</th>\n",
       "    </tr>\n",
       "  </thead>\n",
       "  <tbody>\n",
       "    <tr>\n",
       "      <th>count</th>\n",
       "      <td>5009.000000</td>\n",
       "      <td>5009.000000</td>\n",
       "      <td>5009.000000</td>\n",
       "      <td>5009.000000</td>\n",
       "      <td>5009.000000</td>\n",
       "      <td>5.009000e+03</td>\n",
       "    </tr>\n",
       "    <tr>\n",
       "      <th>mean</th>\n",
       "      <td>1281.513748</td>\n",
       "      <td>1294.711284</td>\n",
       "      <td>1267.477902</td>\n",
       "      <td>1281.004200</td>\n",
       "      <td>1157.789240</td>\n",
       "      <td>3.397382e+06</td>\n",
       "    </tr>\n",
       "    <tr>\n",
       "      <th>std</th>\n",
       "      <td>1143.454773</td>\n",
       "      <td>1153.256001</td>\n",
       "      <td>1133.127827</td>\n",
       "      <td>1143.190339</td>\n",
       "      <td>1123.557564</td>\n",
       "      <td>3.139623e+06</td>\n",
       "    </tr>\n",
       "    <tr>\n",
       "      <th>min</th>\n",
       "      <td>38.387501</td>\n",
       "      <td>38.387501</td>\n",
       "      <td>38.387501</td>\n",
       "      <td>38.387501</td>\n",
       "      <td>27.191580</td>\n",
       "      <td>0.000000e+00</td>\n",
       "    </tr>\n",
       "    <tr>\n",
       "      <th>25%</th>\n",
       "      <td>285.987488</td>\n",
       "      <td>289.000000</td>\n",
       "      <td>279.687500</td>\n",
       "      <td>284.237488</td>\n",
       "      <td>208.278183</td>\n",
       "      <td>1.793722e+06</td>\n",
       "    </tr>\n",
       "    <tr>\n",
       "      <th>50%</th>\n",
       "      <td>1072.500000</td>\n",
       "      <td>1084.800049</td>\n",
       "      <td>1060.349976</td>\n",
       "      <td>1072.199951</td>\n",
       "      <td>873.811890</td>\n",
       "      <td>2.635047e+06</td>\n",
       "    </tr>\n",
       "    <tr>\n",
       "      <th>75%</th>\n",
       "      <td>2005.000000</td>\n",
       "      <td>2024.000000</td>\n",
       "      <td>1984.000000</td>\n",
       "      <td>2005.650024</td>\n",
       "      <td>1803.442139</td>\n",
       "      <td>4.100988e+06</td>\n",
       "    </tr>\n",
       "    <tr>\n",
       "      <th>max</th>\n",
       "      <td>4215.250000</td>\n",
       "      <td>4254.750000</td>\n",
       "      <td>4177.000000</td>\n",
       "      <td>4219.250000</td>\n",
       "      <td>4219.250000</td>\n",
       "      <td>8.806715e+07</td>\n",
       "    </tr>\n",
       "  </tbody>\n",
       "</table>\n",
       "</div>"
      ],
      "text/plain": [
       "              Open         High          Low        Close    Adj Close  \\\n",
       "count  5009.000000  5009.000000  5009.000000  5009.000000  5009.000000   \n",
       "mean   1281.513748  1294.711284  1267.477902  1281.004200  1157.789240   \n",
       "std    1143.454773  1153.256001  1133.127827  1143.190339  1123.557564   \n",
       "min      38.387501    38.387501    38.387501    38.387501    27.191580   \n",
       "25%     285.987488   289.000000   279.687500   284.237488   208.278183   \n",
       "50%    1072.500000  1084.800049  1060.349976  1072.199951   873.811890   \n",
       "75%    2005.000000  2024.000000  1984.000000  2005.650024  1803.442139   \n",
       "max    4215.250000  4254.750000  4177.000000  4219.250000  4219.250000   \n",
       "\n",
       "             Volume  \n",
       "count  5.009000e+03  \n",
       "mean   3.397382e+06  \n",
       "std    3.139623e+06  \n",
       "min    0.000000e+00  \n",
       "25%    1.793722e+06  \n",
       "50%    2.635047e+06  \n",
       "75%    4.100988e+06  \n",
       "max    8.806715e+07  "
      ]
     },
     "execution_count": 9,
     "metadata": {},
     "output_type": "execute_result"
    }
   ],
   "source": [
    "dataset.describe()"
   ]
  },
  {
   "cell_type": "code",
   "execution_count": 10,
   "id": "ed93248b-e543-43bd-802e-b5b172dcc6ac",
   "metadata": {},
   "outputs": [
    {
     "data": {
      "image/png": "[encoded data removed]",
      "text/plain": [
       "<Figure size 1000x400 with 1 Axes>"
      ]
     },
     "metadata": {},
     "output_type": "display_data"
    }
   ],
   "source": [
    "plt.figure(figsize=(10,4))\n",
    "plt.plot(dataset.Open,'b')\n",
    "plt.xlabel('Time')\n",
    "plt.ylabel('Price')\n",
    "plt.show()"
   ]
  },
  {
   "cell_type": "code",
   "execution_count": 264,
   "id": "c8a0812b-a7a3-41dd-91cd-eddb7b5db81d",
   "metadata": {},
   "outputs": [],
   "source": [
    "x=dataset[['Adj Close']]\n",
    "y=dataset['Close']"
   ]
  },
  {
   "cell_type": "code",
   "execution_count": 265,
   "id": "3fb9bfd5-cc9e-4d8d-873b-be2e10d9fa12",
   "metadata": {},
   "outputs": [],
   "source": [
    "from sklearn.model_selection import train_test_split\n",
    "x_train,x_test,y_train,y_test= train_test_split(x,y,random_state=0)"
   ]
  },
  {
   "cell_type": "code",
   "execution_count": 266,
   "id": "083a74f0-ef1b-4b23-b724-38a1d2be9d6e",
   "metadata": {},
   "outputs": [
    {
     "data": {
      "text/plain": [
       "(3756, 1)"
      ]
     },
     "execution_count": 266,
     "metadata": {},
     "output_type": "execute_result"
    }
   ],
   "source": [
    "x_train.shape"
   ]
  },
  {
   "cell_type": "code",
   "execution_count": 267,
   "id": "87b49b18-97df-4d4a-bb85-cf3b6652f915",
   "metadata": {},
   "outputs": [
    {
     "data": {
      "text/plain": [
       "(1253, 1)"
      ]
     },
     "execution_count": 267,
     "metadata": {},
     "output_type": "execute_result"
    }
   ],
   "source": [
    "x_test.shape"
   ]
  },
  {
   "cell_type": "code",
   "execution_count": 268,
   "id": "ff9b6c31-86f4-482f-b4f3-a4568c27e71a",
   "metadata": {},
   "outputs": [],
   "source": [
    "from sklearn.linear_model import LinearRegression\n",
    "\n",
    "\n",
    "reg=LinearRegression()"
   ]
  },
  {
   "cell_type": "code",
   "execution_count": 269,
   "id": "c4d16293-204a-4787-9785-2ee2c4982a26",
   "metadata": {},
   "outputs": [
    {
     "data": {
      "text/html": [
       "<style>#sk-container-id-15 {color: black;}#sk-container-id-15 pre{padding: 0;}#sk-container-id-15 div.sk-toggleable {background-color: white;}#sk-container-id-15 label.sk-toggleable__label {cursor: pointer;display: block;width: 100%;margin-bottom: 0;padding: 0.3em;box-sizing: border-box;text-align: center;}#sk-container-id-15 label.sk-toggleable__label-arrow:before {content: \"▸\";float: left;margin-right: 0.25em;color: #696969;}#sk-container-id-15 label.sk-toggleable__label-arrow:hover:before {color: black;}#sk-container-id-15 div.sk-estimator:hover label.sk-toggleable__label-arrow:before {color: black;}#sk-container-id-15 div.sk-toggleable__content {max-height: 0;max-width: 0;overflow: hidden;text-align: left;background-color: #f0f8ff;}#sk-container-id-15 div.sk-toggleable__content pre {margin: 0.2em;color: black;border-radius: 0.25em;background-color: #f0f8ff;}#sk-container-id-15 input.sk-toggleable__control:checked~div.sk-toggleable__content {max-height: 200px;max-width: 100%;overflow: auto;}#sk-container-id-15 input.sk-toggleable__control:checked~label.sk-toggleable__label-arrow:before {content: \"▾\";}#sk-container-id-15 div.sk-estimator input.sk-toggleable__control:checked~label.sk-toggleable__label {background-color: #d4ebff;}#sk-container-id-15 div.sk-label input.sk-toggleable__control:checked~label.sk-toggleable__label {background-color: #d4ebff;}#sk-container-id-15 input.sk-hidden--visually {border: 0;clip: rect(1px 1px 1px 1px);clip: rect(1px, 1px, 1px, 1px);height: 1px;margin: -1px;overflow: hidden;padding: 0;position: absolute;width: 1px;}#sk-container-id-15 div.sk-estimator {font-family: monospace;background-color: #f0f8ff;border: 1px dotted black;border-radius: 0.25em;box-sizing: border-box;margin-bottom: 0.5em;}#sk-container-id-15 div.sk-estimator:hover {background-color: #d4ebff;}#sk-container-id-15 div.sk-parallel-item::after {content: \"\";width: 100%;border-bottom: 1px solid gray;flex-grow: 1;}#sk-container-id-15 div.sk-label:hover label.sk-toggleable__label {background-color: #d4ebff;}#sk-container-id-15 div.sk-serial::before {content: \"\";position: absolute;border-left: 1px solid gray;box-sizing: border-box;top: 0;bottom: 0;left: 50%;z-index: 0;}#sk-container-id-15 div.sk-serial {display: flex;flex-direction: column;align-items: center;background-color: white;padding-right: 0.2em;padding-left: 0.2em;position: relative;}#sk-container-id-15 div.sk-item {position: relative;z-index: 1;}#sk-container-id-15 div.sk-parallel {display: flex;align-items: stretch;justify-content: center;background-color: white;position: relative;}#sk-container-id-15 div.sk-item::before, #sk-container-id-15 div.sk-parallel-item::before {content: \"\";position: absolute;border-left: 1px solid gray;box-sizing: border-box;top: 0;bottom: 0;left: 50%;z-index: -1;}#sk-container-id-15 div.sk-parallel-item {display: flex;flex-direction: column;z-index: 1;position: relative;background-color: white;}#sk-container-id-15 div.sk-parallel-item:first-child::after {align-self: flex-end;width: 50%;}#sk-container-id-15 div.sk-parallel-item:last-child::after {align-self: flex-start;width: 50%;}#sk-container-id-15 div.sk-parallel-item:only-child::after {width: 0;}#sk-container-id-15 div.sk-dashed-wrapped {border: 1px dashed gray;margin: 0 0.4em 0.5em 0.4em;box-sizing: border-box;padding-bottom: 0.4em;background-color: white;}#sk-container-id-15 div.sk-label label {font-family: monospace;font-weight: bold;display: inline-block;line-height: 1.2em;}#sk-container-id-15 div.sk-label-container {text-align: center;}#sk-container-id-15 div.sk-container {/* jupyter's `normalize.less` sets `[hidden] { display: none; }` but bootstrap.min.css set `[hidden] { display: none !important; }` so we also need the `!important` here to be able to override the default hidden behavior on the sphinx rendered scikit-learn.org. See: https://github.com/scikit-learn/scikit-learn/issues/21755 */display: inline-block !important;position: relative;}#sk-container-id-15 div.sk-text-repr-fallback {display: none;}</style><div id=\"sk-container-id-15\" class=\"sk-top-container\"><div class=\"sk-text-repr-fallback\"><pre>LinearRegression()</pre><b>In a Jupyter environment, please rerun this cell to show the HTML representation or trust the notebook. <br />On GitHub, the HTML representation is unable to render, please try loading this page with nbviewer.org.</b></div><div class=\"sk-container\" hidden><div class=\"sk-item\"><div class=\"sk-estimator sk-toggleable\"><input class=\"sk-toggleable__control sk-hidden--visually\" id=\"sk-estimator-id-15\" type=\"checkbox\" checked><label for=\"sk-estimator-id-15\" class=\"sk-toggleable__label sk-toggleable__label-arrow\">LinearRegression</label><div class=\"sk-toggleable__content\"><pre>LinearRegression()</pre></div></div></div></div></div>"
      ],
      "text/plain": [
       "LinearRegression()"
      ]
     },
     "execution_count": 269,
     "metadata": {},
     "output_type": "execute_result"
    }
   ],
   "source": [
    "reg.fit(x_train,y_train)"
   ]
  },
  {
   "cell_type": "code",
   "execution_count": 270,
   "id": "482dec74-1405-4cb3-b7fe-93827a251983",
   "metadata": {},
   "outputs": [
    {
     "name": "stdout",
     "output_type": "stream",
     "text": [
      "[1.01694629]\n"
     ]
    }
   ],
   "source": [
    "#coffecient\n",
    "print(reg.coef_)"
   ]
  },
  {
   "cell_type": "code",
   "execution_count": 271,
   "id": "34907967-9585-4a58-8e6d-278304e5fa9c",
   "metadata": {},
   "outputs": [
    {
     "name": "stdout",
     "output_type": "stream",
     "text": [
      "103.65327259611331\n"
     ]
    }
   ],
   "source": [
    "# intercept\n",
    "print(reg.intercept_)"
   ]
  },
  {
   "cell_type": "code",
   "execution_count": 272,
   "id": "ae1c08ee-afcb-42ea-a685-93b69277fc1c",
   "metadata": {},
   "outputs": [
    {
     "data": {
      "text/plain": [
       "array([ 220.22331688, 3174.31762604,  258.21653905, ..., 2799.62505744,\n",
       "       1778.15253794, 1133.15553389])"
      ]
     },
     "execution_count": 272,
     "metadata": {},
     "output_type": "execute_result"
    }
   ],
   "source": [
    "predicted=reg.predict(x_test)\n",
    "predicted"
   ]
  },
  {
   "cell_type": "code",
   "execution_count": 273,
   "id": "e2c77edb-299b-4261-94dc-945ffdde5099",
   "metadata": {},
   "outputs": [],
   "source": [
    "from sklearn.metrics import confusion_matrix,accuracy_score"
   ]
  },
  {
   "cell_type": "code",
   "execution_count": 274,
   "id": "42d4290a-3b25-443e-8335-f2bbdd3926d9",
   "metadata": {},
   "outputs": [
    {
     "data": {
      "text/plain": [
       "(1253,)"
      ]
     },
     "execution_count": 274,
     "metadata": {},
     "output_type": "execute_result"
    }
   ],
   "source": [
    "predicted.shape"
   ]
  },
  {
   "cell_type": "code",
   "execution_count": 275,
   "id": "ff216e72-650e-4fa3-b1ba-b281b61a5607",
   "metadata": {},
   "outputs": [
    {
     "data": {
      "text/plain": [
       "0.9971449177891388"
      ]
     },
     "execution_count": 275,
     "metadata": {},
     "output_type": "execute_result"
    }
   ],
   "source": [
    "reg.score(x_test,y_test)"
   ]
  },
  {
   "cell_type": "code",
   "execution_count": 276,
   "id": "994b5a44-1636-41b2-8900-4e3dc2bbae87",
   "metadata": {},
   "outputs": [],
   "source": [
    "import math"
   ]
  },
  {
   "cell_type": "code",
   "execution_count": 277,
   "id": "070f9365-2d5a-4aef-9bd1-ef48e3449f54",
   "metadata": {},
   "outputs": [
    {
     "name": "stdout",
     "output_type": "stream",
     "text": [
      "           actual    predicted\n",
      "406    160.357498   220.223317\n",
      "4233  3206.000000  3174.317626\n",
      "492    211.687500   258.216539\n",
      "4148  2830.000000  2797.555661\n",
      "1531   395.799988   410.879860\n",
      "...           ...          ...\n",
      "554    236.669998   276.777407\n",
      "2849  1301.949951  1221.027477\n",
      "4197  2820.149902  2799.625057\n",
      "3589  1851.349976  1778.152538\n",
      "3141  1176.224976  1133.155534\n",
      "\n",
      "[1253 rows x 2 columns]\n"
     ]
    }
   ],
   "source": [
    "_df=pd.DataFrame({\"actual\":y_test,\"predicted\":predicted})\n",
    "print(_df)"
   ]
  },
  {
   "cell_type": "code",
   "execution_count": 283,
   "id": "7e27e46b-c0f2-4783-a153-cf44df36f9c5",
   "metadata": {},
   "outputs": [
    {
     "data": {
      "image/png": "[encoded data removed]",
      "text/plain": [
       "<Figure size 1000x500 with 1 Axes>"
      ]
     },
     "metadata": {},
     "output_type": "display_data"
    }
   ],
   "source": [
    "fig, ax = plt.subplots(figsize=(10, 5))\n",
    "graph=_df.head(30)\n",
    "graph.plot(kind='bar',ax=ax)\n",
    "plt.show()"
   ]
  },
  {
   "cell_type": "code",
   "execution_count": 279,
   "id": "6db29bbb-2295-420d-90d7-c391e9b164a2",
   "metadata": {},
   "outputs": [
    {
     "name": "stdout",
     "output_type": "stream",
     "text": [
      "Mean Absolute Error:  51.05469112175456\n",
      "Mean Squared Error 3823.853761126392\n",
      "Root Mean Error 61.83731689786024\n"
     ]
    }
   ],
   "source": [
    "print('Mean Absolute Error: ',metrics.mean_absolute_error(y_test,predicted))\n",
    "print('Mean Squared Error',metrics.mean_squared_error(y_test,predicted))\n",
    "print('Root Mean Error',math.sqrt(metrics.mean_squared_error(y_test,predicted)))"
   ]
  }
 ],
 "metadata": {
  "kernelspec": {
   "display_name": "Python 3 (ipykernel)",
   "language": "python",
   "name": "python3"
  },
  "language_info": {
   "codemirror_mode": {
    "name": "ipython",
    "version": 3
   },
   "file_extension": ".py",
   "mimetype": "text/x-python",
   "name": "python",
   "nbconvert_exporter": "python",
   "pygments_lexer": "ipython3",
   "version": "3.11.3"
  }
 },
 "nbformat": 4,
 "nbformat_minor": 5
}
