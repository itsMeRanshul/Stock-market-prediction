{
 "cells": [
  {
   "cell_type": "code",
   "execution_count": 1,
   "id": "d9a6fc8e-7050-43c1-8ce0-b127d2f817de",
   "metadata": {},
   "outputs": [
    {
     "name": "stdout",
     "output_type": "stream",
     "text": [
      "WARNING:tensorflow:From C:\\Users\\RANSHUL\\AppData\\Roaming\\Python\\Python311\\site-packages\\keras\\src\\losses.py:2976: The name tf.losses.sparse_softmax_cross_entropy is deprecated. Please use tf.compat.v1.losses.sparse_softmax_cross_entropy instead.\n",
      "\n"
     ]
    }
   ],
   "source": [
    "import tensorflow as tf\n",
    "import numpy as np\n",
    "import matplotlib.pyplot as plt\n",
    "import pandas as pd\n",
    "from keras.layers import Dense, Dropout , LSTM\n",
    "from keras.models import Sequential"
   ]
  },
  {
   "cell_type": "code",
   "execution_count": 5,
   "id": "7a26049f-80b2-4bbb-8da6-6c95d73a26be",
   "metadata": {},
   "outputs": [],
   "source": [
    "tfdataset=pd.read_csv('C:/Users/RANSHUL/OneDrive/Desktop/Stock market prediction/TCS.NS.csv')"
   ]
  },
  {
   "cell_type": "code",
   "execution_count": 8,
   "id": "3c381a2f-5645-4b57-9147-a0f97ab9fbd0",
   "metadata": {},
   "outputs": [
    {
     "data": {
      "text/html": [
       "<div>\n",
       "<style scoped>\n",
       "    .dataframe tbody tr th:only-of-type {\n",
       "        vertical-align: middle;\n",
       "    }\n",
       "\n",
       "    .dataframe tbody tr th {\n",
       "        vertical-align: top;\n",
       "    }\n",
       "\n",
       "    .dataframe thead th {\n",
       "        text-align: right;\n",
       "    }\n",
       "</style>\n",
       "<table border=\"1\" class=\"dataframe\">\n",
       "  <thead>\n",
       "    <tr style=\"text-align: right;\">\n",
       "      <th></th>\n",
       "      <th>Date</th>\n",
       "      <th>Open</th>\n",
       "      <th>High</th>\n",
       "      <th>Low</th>\n",
       "      <th>Close</th>\n",
       "      <th>Adj Close</th>\n",
       "      <th>Volume</th>\n",
       "    </tr>\n",
       "  </thead>\n",
       "  <tbody>\n",
       "    <tr>\n",
       "      <th>0</th>\n",
       "      <td>2004-01-16</td>\n",
       "      <td>38.387501</td>\n",
       "      <td>38.387501</td>\n",
       "      <td>38.387501</td>\n",
       "      <td>38.387501</td>\n",
       "      <td>27.19158</td>\n",
       "      <td>0.0</td>\n",
       "    </tr>\n",
       "    <tr>\n",
       "      <th>1</th>\n",
       "      <td>2004-01-19</td>\n",
       "      <td>38.387501</td>\n",
       "      <td>38.387501</td>\n",
       "      <td>38.387501</td>\n",
       "      <td>38.387501</td>\n",
       "      <td>27.19158</td>\n",
       "      <td>0.0</td>\n",
       "    </tr>\n",
       "    <tr>\n",
       "      <th>2</th>\n",
       "      <td>2004-01-20</td>\n",
       "      <td>38.387501</td>\n",
       "      <td>38.387501</td>\n",
       "      <td>38.387501</td>\n",
       "      <td>38.387501</td>\n",
       "      <td>27.19158</td>\n",
       "      <td>0.0</td>\n",
       "    </tr>\n",
       "    <tr>\n",
       "      <th>3</th>\n",
       "      <td>2004-01-21</td>\n",
       "      <td>38.387501</td>\n",
       "      <td>38.387501</td>\n",
       "      <td>38.387501</td>\n",
       "      <td>38.387501</td>\n",
       "      <td>27.19158</td>\n",
       "      <td>0.0</td>\n",
       "    </tr>\n",
       "    <tr>\n",
       "      <th>4</th>\n",
       "      <td>2004-01-22</td>\n",
       "      <td>38.387501</td>\n",
       "      <td>38.387501</td>\n",
       "      <td>38.387501</td>\n",
       "      <td>38.387501</td>\n",
       "      <td>27.19158</td>\n",
       "      <td>0.0</td>\n",
       "    </tr>\n",
       "  </tbody>\n",
       "</table>\n",
       "</div>"
      ],
      "text/plain": [
       "         Date       Open       High        Low      Close  Adj Close  Volume\n",
       "0  2004-01-16  38.387501  38.387501  38.387501  38.387501   27.19158     0.0\n",
       "1  2004-01-19  38.387501  38.387501  38.387501  38.387501   27.19158     0.0\n",
       "2  2004-01-20  38.387501  38.387501  38.387501  38.387501   27.19158     0.0\n",
       "3  2004-01-21  38.387501  38.387501  38.387501  38.387501   27.19158     0.0\n",
       "4  2004-01-22  38.387501  38.387501  38.387501  38.387501   27.19158     0.0"
      ]
     },
     "execution_count": 8,
     "metadata": {},
     "output_type": "execute_result"
    }
   ],
   "source": [
    "tfdataset.head()"
   ]
  },
  {
   "cell_type": "code",
   "execution_count": 3,
   "id": "97169c91-c459-415e-81bc-fe63d0ca672f",
   "metadata": {},
   "outputs": [
    {
     "data": {
      "text/html": [
       "<div>\n",
       "<style scoped>\n",
       "    .dataframe tbody tr th:only-of-type {\n",
       "        vertical-align: middle;\n",
       "    }\n",
       "\n",
       "    .dataframe tbody tr th {\n",
       "        vertical-align: top;\n",
       "    }\n",
       "\n",
       "    .dataframe thead th {\n",
       "        text-align: right;\n",
       "    }\n",
       "</style>\n",
       "<table border=\"1\" class=\"dataframe\">\n",
       "  <thead>\n",
       "    <tr style=\"text-align: right;\">\n",
       "      <th></th>\n",
       "      <th>Date</th>\n",
       "      <th>Open</th>\n",
       "      <th>High</th>\n",
       "      <th>Low</th>\n",
       "      <th>Close</th>\n",
       "      <th>Adj Close</th>\n",
       "      <th>Volume</th>\n",
       "    </tr>\n",
       "  </thead>\n",
       "  <tbody>\n",
       "    <tr>\n",
       "      <th>5012</th>\n",
       "      <td>2024-04-09</td>\n",
       "      <td>3984.000000</td>\n",
       "      <td>4015.850098</td>\n",
       "      <td>3925.050049</td>\n",
       "      <td>3946.550049</td>\n",
       "      <td>3946.550049</td>\n",
       "      <td>1876992.0</td>\n",
       "    </tr>\n",
       "    <tr>\n",
       "      <th>5013</th>\n",
       "      <td>2024-04-10</td>\n",
       "      <td>3956.399902</td>\n",
       "      <td>3990.199951</td>\n",
       "      <td>3918.000000</td>\n",
       "      <td>3984.649902</td>\n",
       "      <td>3984.649902</td>\n",
       "      <td>2101965.0</td>\n",
       "    </tr>\n",
       "    <tr>\n",
       "      <th>5014</th>\n",
       "      <td>2024-04-12</td>\n",
       "      <td>3971.000000</td>\n",
       "      <td>4013.350098</td>\n",
       "      <td>3945.500000</td>\n",
       "      <td>4001.399902</td>\n",
       "      <td>4001.399902</td>\n",
       "      <td>4354821.0</td>\n",
       "    </tr>\n",
       "    <tr>\n",
       "      <th>5015</th>\n",
       "      <td>2024-04-15</td>\n",
       "      <td>4001.399902</td>\n",
       "      <td>4064.199951</td>\n",
       "      <td>3919.050049</td>\n",
       "      <td>3941.199951</td>\n",
       "      <td>3941.199951</td>\n",
       "      <td>4200329.0</td>\n",
       "    </tr>\n",
       "    <tr>\n",
       "      <th>5016</th>\n",
       "      <td>2024-04-16</td>\n",
       "      <td>3902.000000</td>\n",
       "      <td>3928.699951</td>\n",
       "      <td>3862.850098</td>\n",
       "      <td>3872.800049</td>\n",
       "      <td>3872.800049</td>\n",
       "      <td>3051177.0</td>\n",
       "    </tr>\n",
       "  </tbody>\n",
       "</table>\n",
       "</div>"
      ],
      "text/plain": [
       "            Date         Open         High          Low        Close  \\\n",
       "5012  2024-04-09  3984.000000  4015.850098  3925.050049  3946.550049   \n",
       "5013  2024-04-10  3956.399902  3990.199951  3918.000000  3984.649902   \n",
       "5014  2024-04-12  3971.000000  4013.350098  3945.500000  4001.399902   \n",
       "5015  2024-04-15  4001.399902  4064.199951  3919.050049  3941.199951   \n",
       "5016  2024-04-16  3902.000000  3928.699951  3862.850098  3872.800049   \n",
       "\n",
       "        Adj Close     Volume  \n",
       "5012  3946.550049  1876992.0  \n",
       "5013  3984.649902  2101965.0  \n",
       "5014  4001.399902  4354821.0  \n",
       "5015  3941.199951  4200329.0  \n",
       "5016  3872.800049  3051177.0  "
      ]
     },
     "execution_count": 3,
     "metadata": {},
     "output_type": "execute_result"
    }
   ],
   "source": [
    "tfdataset.tail()"
   ]
  },
  {
   "cell_type": "code",
   "execution_count": 36,
   "id": "fb4f0970-5137-4f24-990e-6dd0257353a7",
   "metadata": {},
   "outputs": [
    {
     "name": "stdout",
     "output_type": "stream",
     "text": [
      "<class 'pandas.core.frame.DataFrame'>\n",
      "Index: 5009 entries, 0 to 5016\n",
      "Data columns (total 7 columns):\n",
      " #   Column     Non-Null Count  Dtype  \n",
      "---  ------     --------------  -----  \n",
      " 0   Date       5009 non-null   object \n",
      " 1   Open       5009 non-null   float64\n",
      " 2   High       5009 non-null   float64\n",
      " 3   Low        5009 non-null   float64\n",
      " 4   Close      5009 non-null   float64\n",
      " 5   Adj Close  5009 non-null   float64\n",
      " 6   Volume     5009 non-null   float64\n",
      "dtypes: float64(6), object(1)\n",
      "memory usage: 313.1+ KB\n"
     ]
    },
    {
     "data": {
      "text/plain": [
       "5009"
      ]
     },
     "execution_count": 36,
     "metadata": {},
     "output_type": "execute_result"
    }
   ],
   "source": [
    "tfdataset.info()\n",
    "len(tfdataset)"
   ]
  },
  {
   "cell_type": "code",
   "execution_count": 37,
   "id": "45f9f077-ea7f-477b-9a7f-6f457aab0d2a",
   "metadata": {},
   "outputs": [],
   "source": [
    "tfdataset.dropna(inplace=True)"
   ]
  },
  {
   "cell_type": "code",
   "execution_count": 38,
   "id": "065c671c-fc1f-4c2d-b38b-e145025ffbe8",
   "metadata": {},
   "outputs": [
    {
     "data": {
      "text/plain": [
       "0               NaN\n",
       "1               NaN\n",
       "2               NaN\n",
       "3               NaN\n",
       "4               NaN\n",
       "           ...     \n",
       "5012    3636.328755\n",
       "5013    3640.377505\n",
       "5014    3644.332505\n",
       "5015    3647.900005\n",
       "5016    3650.973005\n",
       "Name: Close, Length: 5009, dtype: float64"
      ]
     },
     "execution_count": 38,
     "metadata": {},
     "output_type": "execute_result"
    }
   ],
   "source": [
    "ma_200days=tfdataset.Close.rolling(200).mean()\n",
    "ma_200days"
   ]
  },
  {
   "cell_type": "code",
   "execution_count": 39,
   "id": "c5de1c4c-11b4-4b93-bb0c-2c423f2f8767",
   "metadata": {},
   "outputs": [
    {
     "data": {
      "image/png": "[encoded data removed]",
      "text/plain": [
       "<Figure size 1000x500 with 1 Axes>"
      ]
     },
     "metadata": {},
     "output_type": "display_data"
    }
   ],
   "source": [
    "plt.figure(figsize=(10,5))\n",
    "plt.plot(ma_200days,'r',label='ma_200days')\n",
    "plt.plot(tfdataset.Close,'g',label='orignal price')\n",
    "plt.legend()\n",
    "plt.show()"
   ]
  },
  {
   "cell_type": "code",
   "execution_count": 40,
   "id": "97588116-4db4-4e98-b1f4-3ab1519d8619",
   "metadata": {},
   "outputs": [
    {
     "data": {
      "text/plain": [
       "0               NaN\n",
       "1               NaN\n",
       "2               NaN\n",
       "3               NaN\n",
       "4               NaN\n",
       "           ...     \n",
       "5012    3446.464500\n",
       "5013    3448.380625\n",
       "5014    3450.328625\n",
       "5015    3452.350250\n",
       "5016    3454.004375\n",
       "Name: Close, Length: 5009, dtype: float64"
      ]
     },
     "execution_count": 40,
     "metadata": {},
     "output_type": "execute_result"
    }
   ],
   "source": [
    "ma_400days= tfdataset.Close.rolling(400).mean()\n",
    "ma_400days"
   ]
  },
  {
   "cell_type": "code",
   "execution_count": 41,
   "id": "23f5652a-3fdd-4a22-8fab-82109c1fc175",
   "metadata": {},
   "outputs": [
    {
     "data": {
      "image/png": "[encoded data removed]",
      "text/plain": [
       "<Figure size 1500x800 with 1 Axes>"
      ]
     },
     "metadata": {},
     "output_type": "display_data"
    }
   ],
   "source": [
    "plt.figure(figsize=(15,8))\n",
    "plt.plot(ma_400days,'r',label='ma_400days')\n",
    "plt.plot(ma_200days,'b',label='ma_200days')\n",
    "plt.plot(tfdataset.Close,'g',label='orignal price')\n",
    "plt.legend() \n",
    "plt.show()"
   ]
  },
  {
   "cell_type": "code",
   "execution_count": 42,
   "id": "0ec898f2-68c3-4de8-a4e6-e94ef3f79e06",
   "metadata": {},
   "outputs": [
    {
     "data": {
      "text/plain": [
       "(5009, 7)"
      ]
     },
     "execution_count": 42,
     "metadata": {},
     "output_type": "execute_result"
    }
   ],
   "source": [
    "tfdataset.shape"
   ]
  },
  {
   "cell_type": "code",
   "execution_count": 48,
   "id": "c0e86189-5106-4cb2-88b7-35627aac6247",
   "metadata": {},
   "outputs": [
    {
     "name": "stdout",
     "output_type": "stream",
     "text": [
      "(4007, 1)\n",
      "(1002, 1)\n"
     ]
    }
   ],
   "source": [
    "# 80% train data\n",
    "train=pd.DataFrame(tfdataset.Close[0:int(len(tfdataset)*0.80)])\n",
    "# 20% test data\n",
    "test=pd.DataFrame(tfdataset.Close[int(len(tfdataset)*0.80):len(tfdataset)])\n",
    "\n",
    "print(train.shape)\n",
    "print(test.shape)"
   ]
  },
  {
   "cell_type": "code",
   "execution_count": 47,
   "id": "fe1154c8-28eb-4d14-8191-41b3712951be",
   "metadata": {},
   "outputs": [
    {
     "data": {
      "text/html": [
       "<div>\n",
       "<style scoped>\n",
       "    .dataframe tbody tr th:only-of-type {\n",
       "        vertical-align: middle;\n",
       "    }\n",
       "\n",
       "    .dataframe tbody tr th {\n",
       "        vertical-align: top;\n",
       "    }\n",
       "\n",
       "    .dataframe thead th {\n",
       "        text-align: right;\n",
       "    }\n",
       "</style>\n",
       "<table border=\"1\" class=\"dataframe\">\n",
       "  <thead>\n",
       "    <tr style=\"text-align: right;\">\n",
       "      <th></th>\n",
       "      <th>Close</th>\n",
       "    </tr>\n",
       "  </thead>\n",
       "  <tbody>\n",
       "    <tr>\n",
       "      <th>0</th>\n",
       "      <td>38.387501</td>\n",
       "    </tr>\n",
       "    <tr>\n",
       "      <th>1</th>\n",
       "      <td>38.387501</td>\n",
       "    </tr>\n",
       "    <tr>\n",
       "      <th>2</th>\n",
       "      <td>38.387501</td>\n",
       "    </tr>\n",
       "    <tr>\n",
       "      <th>3</th>\n",
       "      <td>38.387501</td>\n",
       "    </tr>\n",
       "    <tr>\n",
       "      <th>4</th>\n",
       "      <td>38.387501</td>\n",
       "    </tr>\n",
       "  </tbody>\n",
       "</table>\n",
       "</div>"
      ],
      "text/plain": [
       "       Close\n",
       "0  38.387501\n",
       "1  38.387501\n",
       "2  38.387501\n",
       "3  38.387501\n",
       "4  38.387501"
      ]
     },
     "execution_count": 47,
     "metadata": {},
     "output_type": "execute_result"
    }
   ],
   "source": [
    "train.head()"
   ]
  },
  {
   "cell_type": "code",
   "execution_count": 49,
   "id": "d3656c99-4c3a-4fbb-9e18-b0ea7ad564b9",
   "metadata": {},
   "outputs": [
    {
     "data": {
      "text/html": [
       "<div>\n",
       "<style scoped>\n",
       "    .dataframe tbody tr th:only-of-type {\n",
       "        vertical-align: middle;\n",
       "    }\n",
       "\n",
       "    .dataframe tbody tr th {\n",
       "        vertical-align: top;\n",
       "    }\n",
       "\n",
       "    .dataframe thead th {\n",
       "        text-align: right;\n",
       "    }\n",
       "</style>\n",
       "<table border=\"1\" class=\"dataframe\">\n",
       "  <thead>\n",
       "    <tr style=\"text-align: right;\">\n",
       "      <th></th>\n",
       "      <th>Close</th>\n",
       "    </tr>\n",
       "  </thead>\n",
       "  <tbody>\n",
       "    <tr>\n",
       "      <th>4015</th>\n",
       "      <td>1778.500000</td>\n",
       "    </tr>\n",
       "    <tr>\n",
       "      <th>4016</th>\n",
       "      <td>1826.099976</td>\n",
       "    </tr>\n",
       "    <tr>\n",
       "      <th>4017</th>\n",
       "      <td>1708.750000</td>\n",
       "    </tr>\n",
       "    <tr>\n",
       "      <th>4018</th>\n",
       "      <td>1654.199951</td>\n",
       "    </tr>\n",
       "    <tr>\n",
       "      <th>4019</th>\n",
       "      <td>1775.199951</td>\n",
       "    </tr>\n",
       "  </tbody>\n",
       "</table>\n",
       "</div>"
      ],
      "text/plain": [
       "            Close\n",
       "4015  1778.500000\n",
       "4016  1826.099976\n",
       "4017  1708.750000\n",
       "4018  1654.199951\n",
       "4019  1775.199951"
      ]
     },
     "execution_count": 49,
     "metadata": {},
     "output_type": "execute_result"
    }
   ],
   "source": [
    "test.head()"
   ]
  },
  {
   "cell_type": "code",
   "execution_count": 59,
   "id": "a2e2affa-5f1c-4e6e-8410-04b41a3502ec",
   "metadata": {},
   "outputs": [
    {
     "data": {
      "text/html": [
       "<style>#sk-container-id-2 {color: black;}#sk-container-id-2 pre{padding: 0;}#sk-container-id-2 div.sk-toggleable {background-color: white;}#sk-container-id-2 label.sk-toggleable__label {cursor: pointer;display: block;width: 100%;margin-bottom: 0;padding: 0.3em;box-sizing: border-box;text-align: center;}#sk-container-id-2 label.sk-toggleable__label-arrow:before {content: \"▸\";float: left;margin-right: 0.25em;color: #696969;}#sk-container-id-2 label.sk-toggleable__label-arrow:hover:before {color: black;}#sk-container-id-2 div.sk-estimator:hover label.sk-toggleable__label-arrow:before {color: black;}#sk-container-id-2 div.sk-toggleable__content {max-height: 0;max-width: 0;overflow: hidden;text-align: left;background-color: #f0f8ff;}#sk-container-id-2 div.sk-toggleable__content pre {margin: 0.2em;color: black;border-radius: 0.25em;background-color: #f0f8ff;}#sk-container-id-2 input.sk-toggleable__control:checked~div.sk-toggleable__content {max-height: 200px;max-width: 100%;overflow: auto;}#sk-container-id-2 input.sk-toggleable__control:checked~label.sk-toggleable__label-arrow:before {content: \"▾\";}#sk-container-id-2 div.sk-estimator input.sk-toggleable__control:checked~label.sk-toggleable__label {background-color: #d4ebff;}#sk-container-id-2 div.sk-label input.sk-toggleable__control:checked~label.sk-toggleable__label {background-color: #d4ebff;}#sk-container-id-2 input.sk-hidden--visually {border: 0;clip: rect(1px 1px 1px 1px);clip: rect(1px, 1px, 1px, 1px);height: 1px;margin: -1px;overflow: hidden;padding: 0;position: absolute;width: 1px;}#sk-container-id-2 div.sk-estimator {font-family: monospace;background-color: #f0f8ff;border: 1px dotted black;border-radius: 0.25em;box-sizing: border-box;margin-bottom: 0.5em;}#sk-container-id-2 div.sk-estimator:hover {background-color: #d4ebff;}#sk-container-id-2 div.sk-parallel-item::after {content: \"\";width: 100%;border-bottom: 1px solid gray;flex-grow: 1;}#sk-container-id-2 div.sk-label:hover label.sk-toggleable__label {background-color: #d4ebff;}#sk-container-id-2 div.sk-serial::before {content: \"\";position: absolute;border-left: 1px solid gray;box-sizing: border-box;top: 0;bottom: 0;left: 50%;z-index: 0;}#sk-container-id-2 div.sk-serial {display: flex;flex-direction: column;align-items: center;background-color: white;padding-right: 0.2em;padding-left: 0.2em;position: relative;}#sk-container-id-2 div.sk-item {position: relative;z-index: 1;}#sk-container-id-2 div.sk-parallel {display: flex;align-items: stretch;justify-content: center;background-color: white;position: relative;}#sk-container-id-2 div.sk-item::before, #sk-container-id-2 div.sk-parallel-item::before {content: \"\";position: absolute;border-left: 1px solid gray;box-sizing: border-box;top: 0;bottom: 0;left: 50%;z-index: -1;}#sk-container-id-2 div.sk-parallel-item {display: flex;flex-direction: column;z-index: 1;position: relative;background-color: white;}#sk-container-id-2 div.sk-parallel-item:first-child::after {align-self: flex-end;width: 50%;}#sk-container-id-2 div.sk-parallel-item:last-child::after {align-self: flex-start;width: 50%;}#sk-container-id-2 div.sk-parallel-item:only-child::after {width: 0;}#sk-container-id-2 div.sk-dashed-wrapped {border: 1px dashed gray;margin: 0 0.4em 0.5em 0.4em;box-sizing: border-box;padding-bottom: 0.4em;background-color: white;}#sk-container-id-2 div.sk-label label {font-family: monospace;font-weight: bold;display: inline-block;line-height: 1.2em;}#sk-container-id-2 div.sk-label-container {text-align: center;}#sk-container-id-2 div.sk-container {/* jupyter's `normalize.less` sets `[hidden] { display: none; }` but bootstrap.min.css set `[hidden] { display: none !important; }` so we also need the `!important` here to be able to override the default hidden behavior on the sphinx rendered scikit-learn.org. See: https://github.com/scikit-learn/scikit-learn/issues/21755 */display: inline-block !important;position: relative;}#sk-container-id-2 div.sk-text-repr-fallback {display: none;}</style><div id=\"sk-container-id-2\" class=\"sk-top-container\"><div class=\"sk-text-repr-fallback\"><pre>MinMaxScaler()</pre><b>In a Jupyter environment, please rerun this cell to show the HTML representation or trust the notebook. <br />On GitHub, the HTML representation is unable to render, please try loading this page with nbviewer.org.</b></div><div class=\"sk-container\" hidden><div class=\"sk-item\"><div class=\"sk-estimator sk-toggleable\"><input class=\"sk-toggleable__control sk-hidden--visually\" id=\"sk-estimator-id-2\" type=\"checkbox\" checked><label for=\"sk-estimator-id-2\" class=\"sk-toggleable__label sk-toggleable__label-arrow\">MinMaxScaler</label><div class=\"sk-toggleable__content\"><pre>MinMaxScaler()</pre></div></div></div></div></div>"
      ],
      "text/plain": [
       "MinMaxScaler()"
      ]
     },
     "execution_count": 59,
     "metadata": {},
     "output_type": "execute_result"
    }
   ],
   "source": [
    "from sklearn.preprocessing import MinMaxScaler\n",
    "scaler=MinMaxScaler(feature_range=(0,1))\n",
    "scaler"
   ]
  },
  {
   "cell_type": "code",
   "execution_count": 79,
   "id": "463fce54-1016-4475-a5f3-ad70ed1a959a",
   "metadata": {
    "scrolled": true
   },
   "outputs": [
    {
     "data": {
      "text/plain": [
       "array([[0.        ],\n",
       "       [0.        ],\n",
       "       [0.        ],\n",
       "       ...,\n",
       "       [0.76439599],\n",
       "       [0.78254681],\n",
       "       [0.79752744]])"
      ]
     },
     "execution_count": 79,
     "metadata": {},
     "output_type": "execute_result"
    }
   ],
   "source": [
    "data_training_array=scaler.fit_transform(train)\n",
    "data_training_array"
   ]
  },
  {
   "cell_type": "code",
   "execution_count": 80,
   "id": "da66f326-0d20-4251-87da-720ab817106a",
   "metadata": {},
   "outputs": [
    {
     "data": {
      "text/plain": [
       "(4007, 1)"
      ]
     },
     "execution_count": 80,
     "metadata": {},
     "output_type": "execute_result"
    }
   ],
   "source": [
    "data_training_array.shape"
   ]
  },
  {
   "cell_type": "code",
   "execution_count": 81,
   "id": "65660478-f44b-4cdb-b570-69d85e355282",
   "metadata": {},
   "outputs": [],
   "source": [
    "#two empty list\n",
    "x_train=[]\n",
    "y_train=[]\n",
    "for i in range(200,data_training_array.shape[0]):\n",
    "    x_train.append(data_training_array[i-200:i])\n",
    "    y_train.append(data_training_array[i,0])\n"
   ]
  },
  {
   "cell_type": "code",
   "execution_count": 84,
   "id": "92ffa468-bf37-4810-997b-fb9bbb441892",
   "metadata": {},
   "outputs": [],
   "source": [
    "x_train=np.array(x_train)\n",
    "y_train=np.array(y_train)"
   ]
  },
  {
   "cell_type": "code",
   "execution_count": 100,
   "id": "264c5ee9-2765-41a4-bc49-7d37f5b52475",
   "metadata": {
    "scrolled": true
   },
   "outputs": [
    {
     "data": {
      "text/plain": [
       "(3807, 200, 1)"
      ]
     },
     "execution_count": 100,
     "metadata": {},
     "output_type": "execute_result"
    }
   ],
   "source": [
    "x_train.shape"
   ]
  },
  {
   "cell_type": "code",
   "execution_count": 167,
   "id": "241c063a-138c-47ba-a6de-d1ecadccf7cd",
   "metadata": {},
   "outputs": [],
   "source": [
    "model = Sequential()\n",
    "model.add(LSTM(units = 50, activation = 'tanh', return_sequences=True\n",
    "              ,input_shape = (x_train.shape[1], 1)))\n",
    "model.add(Dropout(0.2))\n",
    "\n",
    "\n",
    "model.add(LSTM(units = 60, activation = 'tanh', return_sequences=True))\n",
    "model.add(Dropout(0.3))\n",
    "\n",
    "\n",
    "model.add(LSTM(units = 80, activation = 'tanh', return_sequences=True))\n",
    "model.add(Dropout(0.4))\n",
    "\n",
    "\n",
    "model.add(LSTM(units = 120, activation = 'tanh'))\n",
    "model.add(Dropout(0.5))\n",
    "\n",
    "model.add(Dense(units = 1))"
   ]
  },
  {
   "cell_type": "code",
   "execution_count": 168,
   "id": "e5675b40-a46b-4bf7-9375-c99a77d3d964",
   "metadata": {},
   "outputs": [],
   "source": [
    "model.compile(optimizer = 'adam', loss = 'mean_squared_error')"
   ]
  },
  {
   "cell_type": "code",
   "execution_count": 188,
   "id": "702dfad8-7dd3-4a40-8484-aa6655f7550c",
   "metadata": {},
   "outputs": [
    {
     "name": "stdout",
     "output_type": "stream",
     "text": [
      "Epoch 1/50\n",
      "119/119 [==============================] - 66s 550ms/step - loss: 0.0013\n",
      "Epoch 2/50\n",
      "119/119 [==============================] - 69s 579ms/step - loss: 0.0014\n",
      "Epoch 3/50\n",
      "119/119 [==============================] - 66s 554ms/step - loss: 0.0015\n",
      "Epoch 4/50\n",
      "119/119 [==============================] - 66s 558ms/step - loss: 0.0013\n",
      "Epoch 5/50\n",
      "119/119 [==============================] - 66s 559ms/step - loss: 0.0013\n",
      "Epoch 6/50\n",
      "119/119 [==============================] - 66s 555ms/step - loss: 0.0014\n",
      "Epoch 7/50\n",
      "119/119 [==============================] - 67s 564ms/step - loss: 0.0013\n",
      "Epoch 8/50\n",
      "119/119 [==============================] - 66s 558ms/step - loss: 0.0014\n",
      "Epoch 9/50\n",
      "119/119 [==============================] - 66s 559ms/step - loss: 0.0012\n",
      "Epoch 10/50\n",
      "119/119 [==============================] - 67s 559ms/step - loss: 0.0013\n",
      "Epoch 11/50\n",
      "119/119 [==============================] - 66s 559ms/step - loss: 0.0013\n",
      "Epoch 12/50\n",
      "119/119 [==============================] - 66s 558ms/step - loss: 0.0013\n",
      "Epoch 13/50\n",
      "119/119 [==============================] - 67s 562ms/step - loss: 0.0012\n",
      "Epoch 14/50\n",
      "119/119 [==============================] - 66s 557ms/step - loss: 0.0012\n",
      "Epoch 15/50\n",
      "119/119 [==============================] - 66s 558ms/step - loss: 0.0014\n",
      "Epoch 16/50\n",
      "119/119 [==============================] - 66s 558ms/step - loss: 0.0012\n",
      "Epoch 17/50\n",
      "119/119 [==============================] - 67s 559ms/step - loss: 0.0013\n",
      "Epoch 18/50\n",
      "119/119 [==============================] - 66s 557ms/step - loss: 0.0013\n",
      "Epoch 19/50\n",
      "119/119 [==============================] - 66s 557ms/step - loss: 0.0011\n",
      "Epoch 20/50\n",
      "119/119 [==============================] - 67s 559ms/step - loss: 0.0012\n",
      "Epoch 21/50\n",
      "119/119 [==============================] - 66s 557ms/step - loss: 0.0012\n",
      "Epoch 22/50\n",
      "119/119 [==============================] - 67s 561ms/step - loss: 0.0013\n",
      "Epoch 23/50\n",
      "119/119 [==============================] - 66s 557ms/step - loss: 0.0012\n",
      "Epoch 24/50\n",
      "119/119 [==============================] - 66s 556ms/step - loss: 0.0014\n",
      "Epoch 25/50\n",
      "119/119 [==============================] - 66s 557ms/step - loss: 0.0012\n",
      "Epoch 26/50\n",
      "119/119 [==============================] - 66s 557ms/step - loss: 0.0012\n",
      "Epoch 27/50\n",
      "119/119 [==============================] - 66s 557ms/step - loss: 0.0013\n",
      "Epoch 28/50\n",
      "119/119 [==============================] - 66s 555ms/step - loss: 0.0013\n",
      "Epoch 29/50\n",
      "119/119 [==============================] - 66s 557ms/step - loss: 0.0013\n",
      "Epoch 30/50\n",
      "119/119 [==============================] - 67s 563ms/step - loss: 0.0013\n",
      "Epoch 31/50\n",
      "119/119 [==============================] - 67s 558ms/step - loss: 0.0012\n",
      "Epoch 32/50\n",
      "119/119 [==============================] - 66s 558ms/step - loss: 0.0013\n",
      "Epoch 33/50\n",
      "119/119 [==============================] - 66s 556ms/step - loss: 0.0012\n",
      "Epoch 34/50\n",
      "119/119 [==============================] - 66s 558ms/step - loss: 0.0013\n",
      "Epoch 35/50\n",
      "119/119 [==============================] - 66s 558ms/step - loss: 0.0012\n",
      "Epoch 36/50\n",
      "119/119 [==============================] - 67s 559ms/step - loss: 0.0012\n",
      "Epoch 37/50\n",
      "119/119 [==============================] - 66s 556ms/step - loss: 0.0013\n",
      "Epoch 38/50\n",
      "119/119 [==============================] - 67s 559ms/step - loss: 0.0012\n",
      "Epoch 39/50\n",
      "119/119 [==============================] - 66s 557ms/step - loss: 0.0012\n",
      "Epoch 40/50\n",
      "119/119 [==============================] - 66s 556ms/step - loss: 0.0012\n",
      "Epoch 41/50\n",
      "119/119 [==============================] - 66s 557ms/step - loss: 0.0012\n",
      "Epoch 42/50\n",
      "119/119 [==============================] - 66s 557ms/step - loss: 0.0011\n",
      "Epoch 43/50\n",
      "119/119 [==============================] - 66s 557ms/step - loss: 0.0012\n",
      "Epoch 44/50\n",
      "119/119 [==============================] - 66s 558ms/step - loss: 0.0011\n",
      "Epoch 45/50\n",
      "119/119 [==============================] - 66s 555ms/step - loss: 0.0011\n",
      "Epoch 46/50\n",
      "119/119 [==============================] - 66s 556ms/step - loss: 0.0013\n",
      "Epoch 47/50\n",
      "119/119 [==============================] - 66s 553ms/step - loss: 0.0011\n",
      "Epoch 48/50\n",
      "119/119 [==============================] - 66s 557ms/step - loss: 0.0012\n",
      "Epoch 49/50\n",
      "119/119 [==============================] - 66s 555ms/step - loss: 0.0011\n",
      "Epoch 50/50\n",
      "119/119 [==============================] - 66s 555ms/step - loss: 0.0011\n"
     ]
    },
    {
     "data": {
      "text/plain": [
       "<keras.src.callbacks.History at 0x14a35925d90>"
      ]
     },
     "execution_count": 188,
     "metadata": {},
     "output_type": "execute_result"
    }
   ],
   "source": [
    "model.fit(x_train , y_train, epochs = 50)"
   ]
  },
  {
   "cell_type": "code",
   "execution_count": 189,
   "id": "da914020-fbf2-4b4d-abed-fe001285fbcd",
   "metadata": {},
   "outputs": [
    {
     "name": "stdout",
     "output_type": "stream",
     "text": [
      "Model: \"sequential_3\"\n",
      "_________________________________________________________________\n",
      " Layer (type)                Output Shape              Param #   \n",
      "=================================================================\n",
      " lstm_8 (LSTM)               (None, 200, 50)           10400     \n",
      "                                                                 \n",
      " dropout_8 (Dropout)         (None, 200, 50)           0         \n",
      "                                                                 \n",
      " lstm_9 (LSTM)               (None, 200, 60)           26640     \n",
      "                                                                 \n",
      " dropout_9 (Dropout)         (None, 200, 60)           0         \n",
      "                                                                 \n",
      " lstm_10 (LSTM)              (None, 200, 80)           45120     \n",
      "                                                                 \n",
      " dropout_10 (Dropout)        (None, 200, 80)           0         \n",
      "                                                                 \n",
      " lstm_11 (LSTM)              (None, 120)               96480     \n",
      "                                                                 \n",
      " dropout_11 (Dropout)        (None, 120)               0         \n",
      "                                                                 \n",
      " dense_2 (Dense)             (None, 1)                 121       \n",
      "                                                                 \n",
      "=================================================================\n",
      "Total params: 178761 (698.29 KB)\n",
      "Trainable params: 178761 (698.29 KB)\n",
      "Non-trainable params: 0 (0.00 Byte)\n",
      "_________________________________________________________________\n"
     ]
    }
   ],
   "source": [
    "model.summary()"
   ]
  },
  {
   "cell_type": "code",
   "execution_count": 190,
   "id": "b1360aa7-383c-46e9-ac08-e5625f6cf08a",
   "metadata": {},
   "outputs": [
    {
     "data": {
      "text/html": [
       "<div>\n",
       "<style scoped>\n",
       "    .dataframe tbody tr th:only-of-type {\n",
       "        vertical-align: middle;\n",
       "    }\n",
       "\n",
       "    .dataframe tbody tr th {\n",
       "        vertical-align: top;\n",
       "    }\n",
       "\n",
       "    .dataframe thead th {\n",
       "        text-align: right;\n",
       "    }\n",
       "</style>\n",
       "<table border=\"1\" class=\"dataframe\">\n",
       "  <thead>\n",
       "    <tr style=\"text-align: right;\">\n",
       "      <th></th>\n",
       "      <th>Close</th>\n",
       "    </tr>\n",
       "  </thead>\n",
       "  <tbody>\n",
       "    <tr>\n",
       "      <th>4015</th>\n",
       "      <td>1778.500000</td>\n",
       "    </tr>\n",
       "    <tr>\n",
       "      <th>4016</th>\n",
       "      <td>1826.099976</td>\n",
       "    </tr>\n",
       "    <tr>\n",
       "      <th>4017</th>\n",
       "      <td>1708.750000</td>\n",
       "    </tr>\n",
       "    <tr>\n",
       "      <th>4018</th>\n",
       "      <td>1654.199951</td>\n",
       "    </tr>\n",
       "    <tr>\n",
       "      <th>4019</th>\n",
       "      <td>1775.199951</td>\n",
       "    </tr>\n",
       "  </tbody>\n",
       "</table>\n",
       "</div>"
      ],
      "text/plain": [
       "            Close\n",
       "4015  1778.500000\n",
       "4016  1826.099976\n",
       "4017  1708.750000\n",
       "4018  1654.199951\n",
       "4019  1775.199951"
      ]
     },
     "execution_count": 190,
     "metadata": {},
     "output_type": "execute_result"
    }
   ],
   "source": [
    "test.head()"
   ]
  },
  {
   "cell_type": "code",
   "execution_count": 191,
   "id": "719857a1-3064-4a01-a3da-c41a4da96ee1",
   "metadata": {},
   "outputs": [
    {
     "data": {
      "text/html": [
       "<div>\n",
       "<style scoped>\n",
       "    .dataframe tbody tr th:only-of-type {\n",
       "        vertical-align: middle;\n",
       "    }\n",
       "\n",
       "    .dataframe tbody tr th {\n",
       "        vertical-align: top;\n",
       "    }\n",
       "\n",
       "    .dataframe thead th {\n",
       "        text-align: right;\n",
       "    }\n",
       "</style>\n",
       "<table border=\"1\" class=\"dataframe\">\n",
       "  <thead>\n",
       "    <tr style=\"text-align: right;\">\n",
       "      <th></th>\n",
       "      <th>Close</th>\n",
       "    </tr>\n",
       "  </thead>\n",
       "  <tbody>\n",
       "    <tr>\n",
       "      <th>3815</th>\n",
       "      <td>2181.750000</td>\n",
       "    </tr>\n",
       "    <tr>\n",
       "      <th>3816</th>\n",
       "      <td>2231.500000</td>\n",
       "    </tr>\n",
       "    <tr>\n",
       "      <th>3817</th>\n",
       "      <td>2252.800049</td>\n",
       "    </tr>\n",
       "    <tr>\n",
       "      <th>3818</th>\n",
       "      <td>2260.899902</td>\n",
       "    </tr>\n",
       "    <tr>\n",
       "      <th>3819</th>\n",
       "      <td>2254.100098</td>\n",
       "    </tr>\n",
       "  </tbody>\n",
       "</table>\n",
       "</div>"
      ],
      "text/plain": [
       "            Close\n",
       "3815  2181.750000\n",
       "3816  2231.500000\n",
       "3817  2252.800049\n",
       "3818  2260.899902\n",
       "3819  2254.100098"
      ]
     },
     "execution_count": 191,
     "metadata": {},
     "output_type": "execute_result"
    }
   ],
   "source": [
    "past_200_days=train.tail(200)\n",
    "past_200_days.head()"
   ]
  },
  {
   "cell_type": "code",
   "execution_count": 192,
   "id": "5716a226-6f2f-4d00-9d65-bd030af4953c",
   "metadata": {},
   "outputs": [
    {
     "data": {
      "text/html": [
       "<div>\n",
       "<style scoped>\n",
       "    .dataframe tbody tr th:only-of-type {\n",
       "        vertical-align: middle;\n",
       "    }\n",
       "\n",
       "    .dataframe tbody tr th {\n",
       "        vertical-align: top;\n",
       "    }\n",
       "\n",
       "    .dataframe thead th {\n",
       "        text-align: right;\n",
       "    }\n",
       "</style>\n",
       "<table border=\"1\" class=\"dataframe\">\n",
       "  <thead>\n",
       "    <tr style=\"text-align: right;\">\n",
       "      <th></th>\n",
       "      <th>Close</th>\n",
       "    </tr>\n",
       "  </thead>\n",
       "  <tbody>\n",
       "    <tr>\n",
       "      <th>0</th>\n",
       "      <td>2181.750000</td>\n",
       "    </tr>\n",
       "    <tr>\n",
       "      <th>1</th>\n",
       "      <td>2231.500000</td>\n",
       "    </tr>\n",
       "    <tr>\n",
       "      <th>2</th>\n",
       "      <td>2252.800049</td>\n",
       "    </tr>\n",
       "    <tr>\n",
       "      <th>3</th>\n",
       "      <td>2260.899902</td>\n",
       "    </tr>\n",
       "    <tr>\n",
       "      <th>4</th>\n",
       "      <td>2254.100098</td>\n",
       "    </tr>\n",
       "  </tbody>\n",
       "</table>\n",
       "</div>"
      ],
      "text/plain": [
       "         Close\n",
       "0  2181.750000\n",
       "1  2231.500000\n",
       "2  2252.800049\n",
       "3  2260.899902\n",
       "4  2254.100098"
      ]
     },
     "execution_count": 192,
     "metadata": {},
     "output_type": "execute_result"
    }
   ],
   "source": [
    "final_df = pd.concat([past_200_days, test], ignore_index=True)\n",
    "final_df.head()"
   ]
  },
  {
   "cell_type": "code",
   "execution_count": 193,
   "id": "79967d80-618b-4e5f-ad07-d1ffabbe76f9",
   "metadata": {},
   "outputs": [],
   "source": [
    "data_test_array=scaler.fit_transform(final_df)"
   ]
  },
  {
   "cell_type": "code",
   "execution_count": 194,
   "id": "908665e5-7fee-4195-b501-845d67c88c2b",
   "metadata": {},
   "outputs": [],
   "source": [
    "x_test=[]\n",
    "y_test=[]\n",
    "for i in range(200,data_test_array.shape[0]):\n",
    "    x_test.append(data_test_array[i-200:i])\n",
    "    y_test.append(data_test_array[i,0])\n"
   ]
  },
  {
   "cell_type": "code",
   "execution_count": 195,
   "id": "1f51f8f3-b7cd-4354-b05a-7da33a0ab62f",
   "metadata": {},
   "outputs": [
    {
     "data": {
      "text/plain": [
       "(1002,)"
      ]
     },
     "execution_count": 195,
     "metadata": {},
     "output_type": "execute_result"
    }
   ],
   "source": [
    "x_test=np.array(x_test)\n",
    "y_test=np.array(y_test)\n",
    "\n",
    "x_test.shape\n",
    "y_test.shape"
   ]
  },
  {
   "cell_type": "code",
   "execution_count": 196,
   "id": "12d831f3-1978-4571-8c47-8777aacf485a",
   "metadata": {},
   "outputs": [
    {
     "name": "stdout",
     "output_type": "stream",
     "text": [
      "32/32 [==============================] - 7s 207ms/step\n"
     ]
    }
   ],
   "source": [
    "y_predict=model.predict(x_test)"
   ]
  },
  {
   "cell_type": "code",
   "execution_count": 197,
   "id": "43621d70-fe72-489c-9e65-8028d74275ff",
   "metadata": {},
   "outputs": [
    {
     "data": {
      "text/plain": [
       "(1002, 1)"
      ]
     },
     "execution_count": 197,
     "metadata": {},
     "output_type": "execute_result"
    }
   ],
   "source": [
    "y_predict.shape\n"
   ]
  },
  {
   "cell_type": "code",
   "execution_count": 198,
   "id": "0adc5107-f012-4abd-b64e-2fb12b353528",
   "metadata": {},
   "outputs": [
    {
     "data": {
      "text/plain": [
       "array([0.05503505, 0.07346394, 0.02803052, ..., 0.91565678, 0.89234967,\n",
       "       0.86586784])"
      ]
     },
     "execution_count": 198,
     "metadata": {},
     "output_type": "execute_result"
    }
   ],
   "source": [
    "y_test"
   ]
  },
  {
   "cell_type": "code",
   "execution_count": 199,
   "id": "0d2892e9-d453-41a0-a3a5-1973c8728998",
   "metadata": {},
   "outputs": [
    {
     "data": {
      "text/plain": [
       "array([0.00038716])"
      ]
     },
     "execution_count": 199,
     "metadata": {},
     "output_type": "execute_result"
    }
   ],
   "source": [
    "scaler.scale_"
   ]
  },
  {
   "cell_type": "code",
   "execution_count": 200,
   "id": "368a8ff6-02d2-4dd1-89cb-62aed307ebd0",
   "metadata": {},
   "outputs": [
    {
     "data": {
      "text/plain": [
       "2582.911457795227"
      ]
     },
     "execution_count": 200,
     "metadata": {},
     "output_type": "execute_result"
    }
   ],
   "source": [
    "scale_fac=1/0.00038716\n",
    "scale_fac"
   ]
  },
  {
   "cell_type": "code",
   "execution_count": 201,
   "id": "3479554e-d1a3-4681-be2e-df479585f775",
   "metadata": {},
   "outputs": [],
   "source": [
    "y_predict=y_predict*scale_fac\n",
    "y_test=y_test*scale_fac"
   ]
  },
  {
   "cell_type": "code",
   "execution_count": 202,
   "id": "fb4f2a28-e62b-4e95-b5a0-0e7289e11302",
   "metadata": {},
   "outputs": [
    {
     "data": {
      "image/png": "[encoded data removed]",
      "text/plain": [
       "<Figure size 1000x700 with 1 Axes>"
      ]
     },
     "metadata": {},
     "output_type": "display_data"
    }
   ],
   "source": [
    "plt.figure(figsize=(10,7))\n",
    "plt.plot(y_predict,'r',label= 'Predicted Prce')\n",
    "plt.plot(y_test,'g',label='Orignal Price')\n",
    "plt.xlabel('Time')\n",
    "plt.ylabel('Price')\n",
    "plt.legend()\n",
    "plt.show()"
   ]
  },
  {
   "cell_type": "code",
   "execution_count": 203,
   "id": "ca705e0c-4fb7-4c96-b7bb-e4270cbc7fcf",
   "metadata": {},
   "outputs": [
    {
     "name": "stdout",
     "output_type": "stream",
     "text": [
      "INFO:tensorflow:Assets written to: Lstm_model3\\assets\n"
     ]
    },
    {
     "name": "stderr",
     "output_type": "stream",
     "text": [
      "INFO:tensorflow:Assets written to: Lstm_model3\\assets\n"
     ]
    }
   ],
   "source": [
    "model.save('Lstm_model3')"
   ]
  },
  {
   "cell_type": "code",
   "execution_count": 204,
   "id": "51093b9f-97ca-4cb6-926e-055b4f6475b7",
   "metadata": {},
   "outputs": [
    {
     "name": "stdout",
     "output_type": "stream",
     "text": [
      "Mean Absolute Error 52.564089145551556\n",
      "Mean Squared Error 4827.2678783951815\n",
      "Root Mean Error 69.4785425753533\n"
     ]
    }
   ],
   "source": [
    "from sklearn import metrics\n",
    "from sklearn.metrics import confusion_matrix,accuracy_score\n",
    "import math\n",
    "\n",
    "print('Mean Absolute Error',metrics.mean_absolute_error(y_predict,y_test))\n",
    "print('Mean Squared Error',metrics.mean_squared_error(y_test,y_predict))\n",
    "print('Root Mean Error',math.sqrt(metrics.mean_squared_error(y_test,y_predict)))"
   ]
  },
  {
   "cell_type": "code",
   "execution_count": null,
   "id": "1500f0f2-1ca8-4a61-b909-7095c7fd567c",
   "metadata": {},
   "outputs": [],
   "source": []
  }
 ],
 "metadata": {
  "kernelspec": {
   "display_name": "Python 3 (ipykernel)",
   "language": "python",
   "name": "python3"
  },
  "language_info": {
   "codemirror_mode": {
    "name": "ipython",
    "version": 3
   },
   "file_extension": ".py",
   "mimetype": "text/x-python",
   "name": "python",
   "nbconvert_exporter": "python",
   "pygments_lexer": "ipython3",
   "version": "3.11.3"
  }
 },
 "nbformat": 4,
 "nbformat_minor": 5
}
